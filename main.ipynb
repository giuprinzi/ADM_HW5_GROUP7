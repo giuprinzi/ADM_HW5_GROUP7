{
  "cells": [
    {
      "cell_type": "markdown",
      "metadata": {
        "id": "NF8jNhp6_7gy"
      },
      "source": [
        "# Homework 5 - The eternal significance of publications and citations!"
      ]
    },
    {
      "cell_type": "markdown",
      "metadata": {
        "id": "d0TUMAyb_7g3"
      },
      "source": [
        "## Import libraries"
      ]
    },
    {
      "cell_type": "code",
      "execution_count": null,
      "metadata": {
        "id": "dv96Xkqf_7g4"
      },
      "outputs": [],
      "source": [
        "import pandas as pd\n",
        "import csv\n",
        "import json\n",
        "import numpy as np\n",
        "import networkx as nx\n",
        "import matplotlib.pyplot as plt\n",
        "import ast\n",
        "from collections import defaultdict\n",
        "from tabulate import tabulate\n",
        "import seaborn as sns\n",
        "import random\n",
        "import itertools"
      ]
    },
    {
      "cell_type": "code",
      "execution_count": null,
      "metadata": {
        "id": "Q3UVbSu_Mlj2",
        "outputId": "e585670b-db9a-43fb-edb0-c87fad306df0"
      },
      "outputs": [
        {
          "name": "stdout",
          "output_type": "stream",
          "text": [
            "Collecting tabulate\n",
            "  Downloading tabulate-0.9.0-py3-none-any.whl (35 kB)\n",
            "Installing collected packages: tabulate\n",
            "Successfully installed tabulate-0.9.0\n",
            "Note: you may need to restart the kernel to use updated packages.\n"
          ]
        }
      ],
      "source": [
        "pip install tabulate"
      ]
    },
    {
      "cell_type": "markdown",
      "metadata": {
        "id": "rdcfXFqv_7g6"
      },
      "source": [
        "## **[1] Data**"
      ]
    },
    {
      "cell_type": "code",
      "execution_count": null,
      "metadata": {
        "id": "l0o8xFjO_7g7"
      },
      "outputs": [],
      "source": [
        "file_path = \"data.json\""
      ]
    },
    {
      "cell_type": "markdown",
      "metadata": {
        "id": "oy8-c-yr_7g7"
      },
      "source": [
        "### Data pre-processing\n",
        "The dataset is quite large and may not fit in your memory when you try constructing your graph. So, what is the solution? You should focus your investigation on a subgraph. You can work on the most connected component in the graph. However, you must first construct and analyze the connections to identify the connected components."
      ]
    },
    {
      "cell_type": "markdown",
      "metadata": {
        "id": "A9g7O7HG_7g8"
      },
      "source": [
        "#### 1) Identify the top 10,000 papers with the highest number of citations."
      ]
    },
    {
      "cell_type": "markdown",
      "metadata": {
        "id": "7Rz_HJWl_7g8"
      },
      "source": [
        "To identify the top 10,000 papers with the highest number of citations, firstly we read the data.json file line by line trying to interpret each line as JSON. If it's successful, we extracts the \"id\" and \"n_citation\" fields and adds them to the papers list."
      ]
    },
    {
      "cell_type": "code",
      "execution_count": null,
      "metadata": {
        "id": "BhDLfOJp_7g8",
        "outputId": "96ac3b2e-4c0b-4756-a519-cee33a8239e0"
      },
      "outputs": [
        {
          "name": "stdout",
          "output_type": "stream",
          "text": [
            "Error in line 0: [\n",
            "Error in line 4894082: ]\n"
          ]
        }
      ],
      "source": [
        "# List to store paper information\n",
        "papers = []\n",
        "# Open the file\n",
        "with open(file_path, \"r\") as file:\n",
        "    # Iterate through each line in the file\n",
        "    for line_number, line in enumerate(file):\n",
        "        try:\n",
        "            # Remove any remaining commas, square brackets, or braces\n",
        "            line = line.strip(',\\n')\n",
        "\n",
        "            try:\n",
        "                # Load the JSON object from the line\n",
        "                paper_data = json.loads(line)\n",
        "\n",
        "                # Extract the relevant information\n",
        "                paper_id = paper_data[\"id\"]\n",
        "                # Set number of citations to 0 if it doesn't exist\n",
        "                paper_citations = paper_data.get(\"n_citation\", 0)\n",
        "\n",
        "                # Append the information to the 'papers' list\n",
        "                papers.append({\"id\": paper_id, \"n_citations\": paper_citations})\n",
        "\n",
        "            except json.JSONDecodeError:\n",
        "                # Print error message for JSON decoding issue and continue to the next line\n",
        "                print(f\"Error in line {line_number}: {line}\")\n",
        "                continue\n",
        "\n",
        "        except Exception as e:\n",
        "            # Print generic error message then continue to the next line\n",
        "            print(f\"Generic error in line {line_number}: {line}\")\n",
        "            continue"
      ]
    },
    {
      "cell_type": "markdown",
      "metadata": {
        "id": "-jiCeTnl_7g-"
      },
      "source": [
        "So now we have a _papers_ list that holds dictionaries where each dictionary contains information about a paper, including its ID and the number of citations it has received. Let's visualize part of it!"
      ]
    },
    {
      "cell_type": "code",
      "execution_count": null,
      "metadata": {
        "id": "3FMuFQr4_7g_",
        "outputId": "4937cd39-c155-4ab2-95d4-6e78936c3b87"
      },
      "outputs": [
        {
          "name": "stdout",
          "output_type": "stream",
          "text": [
            "[{'id': 1091, 'n_citations': 1}, {'id': 1388, 'n_citations': 1}, {'id': 1674, 'n_citations': 1}, {'id': 1688, 'n_citations': 6}, {'id': 5411, 'n_citations': 0}]\n"
          ]
        }
      ],
      "source": [
        "print(papers[:5])"
      ]
    },
    {
      "cell_type": "markdown",
      "metadata": {
        "id": "-zYyFSr1_7g_"
      },
      "source": [
        "Now we are going to sort the papers based on the number of citations they have (in descending order), select the top 10,000 papers with the highest citations and creates a separate list containing only their IDs."
      ]
    },
    {
      "cell_type": "code",
      "execution_count": null,
      "metadata": {
        "id": "TkVt5F5h_7g_",
        "outputId": "f7cc0931-d8c9-4343-8be9-082127fc02ba"
      },
      "outputs": [
        {
          "name": "stdout",
          "output_type": "stream",
          "text": [
            "We extracted 10000 ids.\n",
            "The list papers_id does not contain duplicates.\n",
            "So now we have a list of ids, let's visualize a small part of it: [2041404167, 1639032689, 2912565176, 2151103935, 2911964244].\n"
          ]
        }
      ],
      "source": [
        "# Sort the list based on the number of citations\n",
        "papers.sort(key=lambda paper: paper[\"n_citations\"], reverse=True)\n",
        "# Extract the top 10000\n",
        "top_10000_papers = papers[:10000]\n",
        "# Insert id values in a list\n",
        "papers_id=[paper[\"id\"] for paper in top_10000_papers]\n",
        "print(f\"We extracted {len(papers_id)} ids.\")\n",
        "has_duplicates = len(papers_id) != len(set(papers_id))\n",
        "if has_duplicates:\n",
        "    print(\"The list papers_id contains duplicates.\")\n",
        "else:\n",
        "    print(\"The list papers_id does not contain duplicates.\")\n",
        "print(f\"So now we have a list of ids, let's visualize a small part of it: {papers_id[:5]}.\")"
      ]
    },
    {
      "cell_type": "markdown",
      "metadata": {
        "id": "jpnQgCpG_7hA"
      },
      "source": [
        "At this point, we are going to re-read each line from the file and appending it to a new DataFrame only if its ID is among the top 10,000 papers' IDs. At the end we should have a dataframe with 10,000 rows, which will be the dataframe we'll be working on."
      ]
    },
    {
      "cell_type": "code",
      "execution_count": null,
      "metadata": {
        "id": "f6AJ3fN3Mlj5",
        "outputId": "3d614d4f-b3fd-45b0-b3f7-b42029c84b15"
      },
      "outputs": [
        {
          "name": "stdout",
          "output_type": "stream",
          "text": [
            "Error in line: [. Error: Expecting value: line 1 column 2 (char 1)\n",
            "Error in line: ]. Error: Expecting value: line 1 column 1 (char 0)\n"
          ]
        }
      ],
      "source": [
        "# Initialize an empty DataFrame for the top 10,000 papers\n",
        "top_10000_papers_df = pd.DataFrame()\n",
        "\n",
        "# Open the JSON file\n",
        "with open(file_path, \"r\") as file:\n",
        "    for line in file:\n",
        "        try:\n",
        "            # Remove any remaining commas, square brackets, or braces\n",
        "            line = line.strip(',\\n')\n",
        "\n",
        "            # Load the line as a JSON object\n",
        "            paper_data = json.loads(line)\n",
        "\n",
        "            # Check if the paper's ID is in the list of IDs of the top 10,000 papers\n",
        "            if \"id\" in paper_data and paper_data[\"id\"] in papers_id:\n",
        "                # Load the JSON into a temporary DataFrame and append to the main DataFrame\n",
        "                tmp_df = pd.read_json(line, lines=True)\n",
        "                top_10000_papers_df = pd.concat([top_10000_papers_df, tmp_df], ignore_index=True)\n",
        "\n",
        "        except json.JSONDecodeError as e:\n",
        "            print(f\"Error in line: {line}. Error: {e}\")\n",
        "            continue\n",
        "        except Exception as e:\n",
        "            print(f\"Error in line: {line}. Error: {e}\")\n",
        "            continue"
      ]
    },
    {
      "cell_type": "markdown",
      "metadata": {
        "id": "CtOCQcB-Mlj6"
      },
      "source": [
        "Let's verify that the new DataFrame has 10,000 rows!"
      ]
    },
    {
      "cell_type": "code",
      "execution_count": null,
      "metadata": {
        "id": "AwVWFJedMlj6",
        "outputId": "970d39b4-dfa2-44c7-ac08-881e67d4be9a"
      },
      "outputs": [
        {
          "name": "stdout",
          "output_type": "stream",
          "text": [
            "The total number of rows in the DataFrame is: 10000\n"
          ]
        }
      ],
      "source": [
        "num_rows = len(top_10000_papers_df)\n",
        "print(\"The total number of rows in the DataFrame is:\", num_rows)"
      ]
    },
    {
      "cell_type": "markdown",
      "metadata": {
        "id": "FQMFGIRD_7hB"
      },
      "source": [
        "We'll now save this DataFrame into a JSON file to avoid rerunning the previous code (which takes some time)"
      ]
    },
    {
      "cell_type": "code",
      "execution_count": null,
      "metadata": {
        "id": "xpXf71Mu_7hC"
      },
      "outputs": [],
      "source": [
        "# Save results in CSV file\n",
        "top_10000_papers_df.to_csv(\"top_10000_papers_csv.csv\", index=False)"
      ]
    },
    {
      "cell_type": "code",
      "execution_count": null,
      "metadata": {
        "id": "zvd3GhG9_7hC"
      },
      "outputs": [],
      "source": [
        "# Save results in a JSON file\n",
        "top_10000_papers_df.to_json(\"top_10000_papers_json.json\", orient=\"records\")"
      ]
    },
    {
      "cell_type": "markdown",
      "metadata": {
        "id": "IyniMGTUMlj7"
      },
      "source": [
        "Let's read this JSON file , load it into a Pandas DataFrame and analize it !"
      ]
    },
    {
      "cell_type": "code",
      "execution_count": null,
      "metadata": {
        "id": "OZ_fbxbFMlj7",
        "outputId": "f5d8663f-7305-4489-c7f5-f54049bddb47"
      },
      "outputs": [
        {
          "name": "stdout",
          "output_type": "stream",
          "text": [
            "Number of rows in the DataFrame: 10000\n",
            "Number of columns in the DataFrame: 17\n",
            "Column Name and Data Type:\n",
            "id                   int64\n",
            "authors             object\n",
            "title               object\n",
            "year                 int64\n",
            "n_citation           int64\n",
            "page_start          object\n",
            "page_end            object\n",
            "doc_type            object\n",
            "publisher           object\n",
            "volume              object\n",
            "issue               object\n",
            "doi                 object\n",
            "fos                 object\n",
            "venue               object\n",
            "references          object\n",
            "indexed_abstract    object\n",
            "alias_ids           object\n",
            "dtype: object\n",
            "\n",
            "Null value counts per column:\n",
            "id                     0\n",
            "authors                0\n",
            "title                  0\n",
            "year                   0\n",
            "n_citation             0\n",
            "page_start             0\n",
            "page_end               0\n",
            "doc_type               0\n",
            "publisher              0\n",
            "volume                 0\n",
            "issue                  0\n",
            "doi                    0\n",
            "fos                    1\n",
            "venue                399\n",
            "references          1204\n",
            "indexed_abstract     433\n",
            "alias_ids           9619\n",
            "dtype: int64\n",
            "\n",
            "Total number of null values in the DataFrame: 11656\n"
          ]
        }
      ],
      "source": [
        "# Read the JSON file into a DataFrame\n",
        "top_10000_papers_df = pd.read_json(\"top_10000_papers_json.json\")\n",
        "\n",
        "# Display the number of rows and columns\n",
        "num_rows, num_columns = top_10000_papers_df.shape\n",
        "print(f\"Number of rows in the DataFrame: {num_rows}\")\n",
        "print(f\"Number of columns in the DataFrame: {num_columns}\")\n",
        "\n",
        "# Display columns in the DataFrame\n",
        "print(\"Column Name and Data Type:\")\n",
        "print(top_10000_papers_df.dtypes)\n",
        "\n",
        "# Count the number of null values per column\n",
        "null_counts = top_10000_papers_df.isnull().sum()\n",
        "print(\"\\nNull value counts per column:\")\n",
        "print(null_counts)\n",
        "\n",
        "# Count the total number of null values in the DataFrame\n",
        "total_null_values = top_10000_papers_df.isnull().sum().sum()\n",
        "print(f\"\\nTotal number of null values in the DataFrame: {total_null_values}\")"
      ]
    },
    {
      "cell_type": "markdown",
      "metadata": {
        "id": "gCRASHnMMlj7"
      },
      "source": [
        "#### 2) Based on the available data, you will create two graphs:"
      ]
    },
    {
      "cell_type": "markdown",
      "metadata": {
        "id": "Zd_lOX66_7hC"
      },
      "source": [
        "##### - Citation graph:\n",
        "This graph should represent the paper's citation relationships. We want this graph to be **unweighted** and **directed**. The citation should represent the citation given from one paper to another. For example, if paper A has cited paper B, we should expect an edge from node A to B.\n",
        "\n",
        "- **Nodes:** You can consider each of the papers as your nodes.\n",
        "- **Edges:** Only consider the citation relationship between these 10,000 papers and ignore the rest.\n"
      ]
    },
    {
      "cell_type": "markdown",
      "metadata": {
        "id": "blZunZAbMlj7"
      },
      "source": [
        "In this case, we'll only need the 'id' and 'references' columns from the new DataFrame, so let's select just those columns and work with them for simplicity."
      ]
    },
    {
      "cell_type": "code",
      "execution_count": null,
      "metadata": {
        "colab": {
          "base_uri": "https://localhost:8080/"
        },
        "id": "RCFqsh3g_7hC",
        "outputId": "5b5e64de-efd8-4c44-b56f-338bceee98aa"
      },
      "outputs": [
        {
          "name": "stdout",
          "output_type": "stream",
          "text": [
            "        id                                         references\n",
            "0   852874                                               None\n",
            "1  1699105  [17553438, 29630963, 149636774, 1488905225, 15...\n",
            "2  2169610                                               None\n",
            "3  4214443  [1965321492, 2082372845, 2103944702, 210478924...\n",
            "4  4508078                                               None\n"
          ]
        }
      ],
      "source": [
        "# Select only 'id' e 'references' columns\n",
        "selected_columns = top_10000_papers_df[['id', 'references']]\n",
        "print(selected_columns.head())"
      ]
    },
    {
      "cell_type": "markdown",
      "metadata": {
        "id": "GJEyfTbfMlj8"
      },
      "source": [
        "We create our graph considering that we have to consider each of the papers as our nodes so it means that we will have 10000 different nodes and that we have to to consider only the citation relationships between these 10,000 papers and ignore the rest."
      ]
    },
    {
      "cell_type": "code",
      "execution_count": null,
      "metadata": {
        "id": "y8DboUOKMlj8"
      },
      "outputs": [],
      "source": [
        "# Create an empty directed graph for citations\n",
        "citation_graph = nx.DiGraph()\n",
        "\n",
        "# Get all unique paper IDs from the dataset\n",
        "unique_ids = selected_columns[\"id\"].unique()\n",
        "\n",
        "# Add all paper IDs as nodes to the graph\n",
        "citation_graph.add_nodes_from(unique_ids)\n",
        "\n",
        "# Add edges only for references present in the dataset\n",
        "for _, row in selected_columns.iterrows():\n",
        "    paper_id = row[\"id\"]\n",
        "    references = row[\"references\"]\n",
        "\n",
        "    # Check if references is not None before iterating\n",
        "    if references is not None:\n",
        "        for ref_id in references:\n",
        "            if ref_id in unique_ids:\n",
        "                citation_graph.add_edge(paper_id, ref_id)"
      ]
    },
    {
      "cell_type": "markdown",
      "metadata": {
        "id": "hCL0nC4fMlj8"
      },
      "source": [
        "Let's verify that we have 10000 nodes"
      ]
    },
    {
      "cell_type": "code",
      "execution_count": null,
      "metadata": {
        "id": "t9hTXoWJMlj8",
        "outputId": "74260de7-c709-4dd2-ad27-c266315ec4b7"
      },
      "outputs": [
        {
          "name": "stdout",
          "output_type": "stream",
          "text": [
            "The number of nodes of the Citation Graph is: 10000\n",
            "The number of edges of the Citation Graph is: 52253\n"
          ]
        }
      ],
      "source": [
        "# Print the number of nodes in the graph\n",
        "print(\"The number of nodes of the Citation Graph is:\", len(citation_graph.nodes))\n",
        "# Print the number of edges in the graph\n",
        "print(\"The number of edges of the Citation Graph is:\", len(citation_graph.edges))"
      ]
    },
    {
      "cell_type": "markdown",
      "metadata": {
        "id": "p8hToGPdMlj9"
      },
      "source": [
        "The graph is very big so we decided to plot the **strongly connected components**. The strongly connected components in a directed graph are subsets of nodes where every node within the subset can be reached from every other node using directed edges within that subset."
      ]
    },
    {
      "cell_type": "code",
      "execution_count": null,
      "metadata": {
        "id": "BEaDdmCX_7hE",
        "outputId": "5c5b2e4e-6876-480c-fd06-9602991e575c"
      },
      "outputs": [
        {
          "name": "stdout",
          "output_type": "stream",
          "text": [
            "The number of nodes of the Citation SubGraph is: 56\n",
            "The number of edges of the Citation SubGraph is: 238\n"
          ]
        }
      ],
      "source": [
        "# Find the strongly connected components\n",
        "scc = list(nx.strongly_connected_components(citation_graph))\n",
        "# Find the largest component\n",
        "largest_scc = max(scc, key=len)\n",
        "# Extract the subgraph related to the largest component\n",
        "citation_subgraph = citation_graph.subgraph(largest_scc)\n",
        "\n",
        "# Print the number of nodes\n",
        "print(\"The number of nodes of the Citation SubGraph is:\", len(citation_subgraph.nodes))\n",
        "# Print the number of edges\n",
        "print(\"The number of edges of the Citation SubGraph is:\", len(citation_subgraph.edges))\n"
      ]
    },
    {
      "cell_type": "code",
      "execution_count": null,
      "metadata": {
        "colab": {
          "base_uri": "https://localhost:8080/",
          "height": 784
        },
        "id": "IDb-i-M0_7hE",
        "outputId": "40751d4e-6ac6-4458-9821-580475b7d3ab"
      },
      "outputs": [
        {
          "data": {
            "image/png": "[encoded data removed]",
            "text/plain": [
              "<Figure size 720x576 with 1 Axes>"
            ]
          },
          "metadata": {},
          "output_type": "display_data"
        }
      ],
      "source": [
        "plt.figure(figsize=(10, 8))\n",
        "pos = nx.spring_layout(citation_subgraph)\n",
        "nx.draw(citation_subgraph, pos, with_labels=True, node_size=50, font_size=8)\n",
        "plt.title('Strongly Connected Components of the Citation Graph')\n",
        "plt.show()"
      ]
    },
    {
      "cell_type": "markdown",
      "metadata": {
        "id": "cKiAC4jKDYSO"
      },
      "source": [
        "##### - Collaboration graph:\n",
        "This graph should represent the collaborations of the paper's authors. This graph should be **weighted** and **undirected**. Consider an appropriate weighting scheme for your edges to make your graph weighted.\n",
        "\n",
        "- **Nodes:** The authors of these papers would be your nodes\n",
        "\n",
        "- **Edges:** Only consider the collaborations between the authors of these 10,000 papers and ignore the rest.\n"
      ]
    },
    {
      "cell_type": "code",
      "execution_count": null,
      "metadata": {
        "id": "zwYBs-WfMlj-"
      },
      "outputs": [],
      "source": [
        "# Read the top 10,000 papers from the JSON file\n",
        "top_papers = pd.read_json('top_10000_papers_json.json')\n",
        "\n",
        "# Create an empty undirected graph for the collaborations\n",
        "collaboration_graph = nx.Graph()\n",
        "\n",
        "# Initialize a dictionary to store the count of collaborations between each pair of authors\n",
        "collaboration_count = defaultdict(lambda: {'count': 0, 'titles': []})\n",
        "\n",
        "# Iterate over the rows in the dataframe\n",
        "for _, row in top_papers.iterrows():\n",
        "    # Get the author dictionaries for the current paper\n",
        "    author_dicts = row[\"authors\"]\n",
        "\n",
        "    # Extract titles\n",
        "    paper_title = row[\"title\"]\n",
        "\n",
        "    # Iterate over each author dictionary\n",
        "    for author_dict in author_dicts:\n",
        "        # Extract the author ID\n",
        "        author_id = author_dict['id']\n",
        "\n",
        "        # Iterate over the rest of the author dictionaries\n",
        "        for other_author_dict in author_dicts:\n",
        "            # Extract the other author ID\n",
        "            other_author_id = other_author_dict['id']\n",
        "\n",
        "            # If the author is not the same as the other author\n",
        "            if author_id != other_author_id:\n",
        "                # Increment the count of collaborations between these two authors\n",
        "                collaboration_count[(author_id, other_author_id)]['count'] += 1\n",
        "                # Add the title to the titles list for this collaboration\n",
        "                collaboration_count[(author_id, other_author_id)]['titles'].append(paper_title)\n",
        "\n",
        "# Add nodes to the graph for each author\n",
        "for key in collaboration_count.keys():\n",
        "    # Each key is a tuple of two author IDs\n",
        "    for author_id in key:\n",
        "        # Add the author as a node in the graph\n",
        "        collaboration_graph.add_node(author_id)\n",
        "\n",
        "# Add edges to the graph for each collaboration, with the weight equal to the count of collaborations\n",
        "for (author_id1, author_id2), data in collaboration_count.items():\n",
        "    # Extract collaboration count and titles\n",
        "    count = data['count']\n",
        "    titles = data['titles']\n",
        "    edge_title = titles[-1] if titles else None\n",
        "\n",
        "    # Add an edge between the authors in the graph, with the weight equal to the count of collaborations\n",
        "    collaboration_graph.add_edge(author_id1, author_id2, weight=count, titles=edge_title)\n"
      ]
    },
    {
      "cell_type": "markdown",
      "metadata": {
        "id": "vSU0QPKBMlj-"
      },
      "source": [
        "Let's see how many nodes and edges has our Collaboration Graph:"
      ]
    },
    {
      "cell_type": "code",
      "execution_count": null,
      "metadata": {
        "id": "R4wtZ6O3Mlj-",
        "outputId": "5866bb88-64cf-47f7-d7cb-7fab519aae63"
      },
      "outputs": [
        {
          "name": "stdout",
          "output_type": "stream",
          "text": [
            "The number of nodes of the Collaboration SubGraph is: 20202\n",
            "The number of edges of the Collaboration SubGraph is: 136476\n"
          ]
        }
      ],
      "source": [
        "# Print the number of nodes\n",
        "print(\"The number of nodes of the Collaboration SubGraph is:\", len(collaboration_graph.nodes))\n",
        "# Print the number of edges\n",
        "print(\"The number of edges of the Collaboration SubGraph is:\", len(collaboration_graph.edges))"
      ]
    },
    {
      "cell_type": "markdown",
      "metadata": {
        "id": "BJq3CwTAMlj-"
      },
      "source": [
        "Given the high number of nodes in the graph, we won't represent it graphically"
      ]
    },
    {
      "cell_type": "markdown",
      "metadata": {
        "id": "aJaPAskGMlkC"
      },
      "source": [
        "## **[2] Controlling system**"
      ]
    },
    {
      "cell_type": "markdown",
      "metadata": {
        "id": "I7t57hw-MlkC"
      },
      "source": [
        "### 2.1) Backend Implementation"
      ]
    },
    {
      "cell_type": "markdown",
      "metadata": {
        "id": "BAM7TptdMlkC"
      },
      "source": [
        "#### Functionality 1 - Graph's features"
      ]
    },
    {
      "cell_type": "code",
      "execution_count": null,
      "metadata": {
        "id": "z-GKYf4FMlkC"
      },
      "outputs": [],
      "source": [
        "def functionality1(graph, graph_name):\n",
        "    # Number of nodes\n",
        "    num_nodes = graph.number_of_nodes()\n",
        "\n",
        "    # Number of edges\n",
        "    num_edges = graph.number_of_edges()\n",
        "\n",
        "    # Graph density\n",
        "    density = nx.density(graph)\n",
        "\n",
        "    # Degree distribution\n",
        "    degree_sequence = sorted([d for n, d in graph.degree()], reverse=True)\n",
        "\n",
        "    # Average degree\n",
        "    avg_degree = np.mean(degree_sequence)\n",
        "\n",
        "    # 95th percentile of the degree distribution\n",
        "    percentile_95 = np.percentile(degree_sequence, 95)\n",
        "\n",
        "    # Graph hubs\n",
        "    hubs = [node for node, degree in graph.degree() if degree > percentile_95]\n",
        "\n",
        "    # Whether the graph is dense or sparse\n",
        "    if density > 0.5:\n",
        "        density_status = \"dense\"\n",
        "    else:\n",
        "        density_status = \"sparse\"\n",
        "\n",
        "    # Output\n",
        "    output = {\n",
        "        \"Graph Name\": graph_name,\n",
        "        \"Number of Nodes\": num_nodes,\n",
        "        \"Number of Edges\": num_edges,\n",
        "        \"Graph Density\": density,\n",
        "        \"Degree Distribution\": degree_sequence,\n",
        "        \"Average Degree\": avg_degree,\n",
        "        \"Graph Hubs\": hubs,\n",
        "        \"Graph Density Status\": density_status\n",
        "    }\n",
        "\n",
        "    return output"
      ]
    },
    {
      "cell_type": "markdown",
      "metadata": {
        "id": "NODB0pX_MlkD"
      },
      "source": [
        "#### Functionality 2 - Nodes' contribution"
      ]
    },
    {
      "cell_type": "code",
      "execution_count": null,
      "metadata": {
        "id": "_oM70b4cMlkD"
      },
      "outputs": [],
      "source": [
        "def functionality2(graph, node, graph_name):\n",
        "    # Calculate centrality measurements\n",
        "    betweenness_centrality = nx.betweenness_centrality(graph)[node]\n",
        "    pagerank_centrality = nx.pagerank(graph)[node]\n",
        "    closeness_centrality = nx.closeness_centrality(graph)[node]\n",
        "    degree_centrality = nx.degree_centrality(graph)[node]\n",
        "\n",
        "    # Output\n",
        "    output = {\n",
        "        \"Graph Name\": graph_name,\n",
        "        \"Node\": node,\n",
        "        \"Betweenness Centrality\": betweenness_centrality,\n",
        "        \"PageRank Centrality\": pagerank_centrality,\n",
        "        \"Closeness Centrality\": closeness_centrality,\n",
        "        \"Degree Centrality\": degree_centrality\n",
        "    }\n",
        "\n",
        "    return output"
      ]
    },
    {
      "cell_type": "markdown",
      "metadata": {
        "id": "a3loikdWMlkD"
      },
      "source": [
        "#### Functionality 3 - Shortest ordered walk"
      ]
    },
    {
      "cell_type": "code",
      "execution_count": null,
      "metadata": {
        "id": "nl_7-XZXMlkD"
      },
      "outputs": [],
      "source": [
        "def remove_consecutive_duplicates(lst):\n",
        "    \"\"\"\n",
        "    Removes consecutive duplicates from a list.\n",
        "    \"\"\"\n",
        "    if len(lst) < 2:\n",
        "        return lst\n",
        "\n",
        "    result = [lst[0]]\n",
        "\n",
        "    for i in range(1, len(lst)):\n",
        "        if lst[i] != lst[i - 1]:\n",
        "            result.append(lst[i])\n",
        "\n",
        "    return result\n",
        "\n",
        "def get_papers_between_nodes(graph, node1, node2):\n",
        "    \"\"\"\n",
        "    Returns the titles of papers between two nodes in the graph.\n",
        "    \"\"\"\n",
        "    papers = []\n",
        "    try:\n",
        "        papers = graph[node1][node2]['titles']\n",
        "    except KeyError:\n",
        "        print(f\"No titles found between nodes {node1} and {node2}\")\n",
        "    return papers\n",
        "\n",
        "def get_path_between_nodes(graph, node1, node2):\n",
        "    \"\"\"\n",
        "    Returns the shortest path between two nodes in the graph.\n",
        "    \"\"\"\n",
        "    try:\n",
        "        shortest_path = nx.shortest_path(graph, node1, node2)\n",
        "    except nx.NetworkXNoPath:\n",
        "        print(f\"No path found between nodes {node1} and {node2}\")\n",
        "        shortest_path = []\n",
        "    return shortest_path\n",
        "\n",
        "def shortest_ordered_walk(graph_data, initial_node, end_node, N):\n",
        "    \"\"\"\n",
        "    Finds the shortest ordered walk between initial and end nodes, crossing N random authors.\n",
        "    \"\"\"\n",
        "    if graph_data is not collaboration_graph:\n",
        "        return 'No walk calculated, you should insert the Collaboration graph'\n",
        "\n",
        "    degrees = dict(graph_data.degree())\n",
        "    top_N = sorted(degrees.items(), key=lambda x: x[1], reverse=True)[:N]\n",
        "    subgraph_auth = graph_data.subgraph([author for author, _ in top_N])\n",
        "    nodes = list(subgraph_auth.nodes())\n",
        "    initial_node = nodes[0]\n",
        "    end_node = nodes[1]\n",
        "\n",
        "    excluded_authors = [author for author in nodes if author not in [initial_node, end_node]]\n",
        "    num_random_authors = random.randint(1, min(N - 2, len(excluded_authors)))\n",
        "    random_authors = random.sample(excluded_authors, num_random_authors)\n",
        "\n",
        "    print(\"Authors Nodes: \", nodes)\n",
        "    print(\"Initial Node: \", initial_node)\n",
        "    print(\"End Node: \", end_node)\n",
        "    print(\"Authors to cross:\", random_authors)\n",
        "\n",
        "    if not nx.is_connected(subgraph_auth):\n",
        "        return 'No walk calculated, the subgraph is not connected'\n",
        "\n",
        "    permutations = list(itertools.permutations(random_authors))\n",
        "\n",
        "    for i in range(len(permutations)):\n",
        "        permutations[i] = permutations[i] + (end_node,)\n",
        "\n",
        "    shortest_walk = []\n",
        "    cross_papers = []\n",
        "    min_length = float('inf')\n",
        "\n",
        "    for permutation in permutations:\n",
        "        temp_walk = [initial_node] + list(permutation)\n",
        "        path = []\n",
        "        papers = []\n",
        "\n",
        "        for i in range(len(temp_walk) - 1):\n",
        "            current_node = temp_walk[i]\n",
        "            next_node = temp_walk[i + 1]\n",
        "\n",
        "            papers_between_nodes = get_papers_between_nodes(subgraph_auth, current_node, next_node)\n",
        "            papers += papers_between_nodes\n",
        "\n",
        "            path_between_nodes = get_path_between_nodes(subgraph_auth, current_node, next_node)\n",
        "            path += path_between_nodes\n",
        "\n",
        "        if len(path) < min_length:\n",
        "            min_length = len(path)\n",
        "            shortest_walk = path\n",
        "            cross_papers = papers\n",
        "\n",
        "    cross_papers_out = remove_consecutive_duplicates(cross_papers)\n",
        "    shortest_walk_out = remove_consecutive_duplicates(shortest_walk)\n",
        "\n",
        "    return subgraph_auth, shortest_walk_out, cross_papers_out"
      ]
    },
    {
      "cell_type": "markdown",
      "metadata": {
        "id": "jZlBziqOMlkD"
      },
      "source": [
        "#### Functionality 4 - Disconnecting Graphs"
      ]
    },
    {
      "cell_type": "markdown",
      "metadata": {
        "id": "3KVezaEPMlkD"
      },
      "source": [
        "#### Functionality 5 - Disconnecting Graphs"
      ]
    },
    {
      "cell_type": "markdown",
      "metadata": {
        "id": "dGNIf3weMlkE"
      },
      "source": [
        "### 2.2. Frontend Implementation"
      ]
    },
    {
      "cell_type": "markdown",
      "metadata": {
        "id": "kXNNO7uJMlkE"
      },
      "source": [
        "#### Visualization 1 - Visualize graph features"
      ]
    },
    {
      "cell_type": "markdown",
      "metadata": {
        "id": "s39Si8LiMlkE"
      },
      "source": [
        "**1. A table containing the following general information about the graph:**\n",
        "\n",
        "- **Number of nodes in the graph**\n",
        "- **Number of edges in the graph**\n",
        "- **Density of the graph**\n",
        "- **Average degree of the graph**\n",
        "- **Whether the network is sparse or dense**\n"
      ]
    },
    {
      "cell_type": "markdown",
      "metadata": {
        "id": "b9jFLMo_MlkE"
      },
      "source": [
        "Citation Graph:"
      ]
    },
    {
      "cell_type": "code",
      "execution_count": null,
      "metadata": {
        "id": "xlG6iyj0MlkE",
        "outputId": "b55cf66f-2625-4175-ef3c-da5dec977367"
      },
      "outputs": [
        {
          "name": "stdout",
          "output_type": "stream",
          "text": [
            "+------------------------------+-----------------------+\n",
            "| Attribute                    | Value                 |\n",
            "+==============================+=======================+\n",
            "| Name of Graph                | citation_graph        |\n",
            "+------------------------------+-----------------------+\n",
            "| Number of nodes in the Graph | 10000                 |\n",
            "+------------------------------+-----------------------+\n",
            "| Number of edges in the Graph | 52253                 |\n",
            "+------------------------------+-----------------------+\n",
            "| Density of the Graph         | 0.0005225822582258226 |\n",
            "+------------------------------+-----------------------+\n",
            "| Average degree of the Graph  | 10.4506               |\n",
            "+------------------------------+-----------------------+\n",
            "| The Graph is                 | sparse                |\n",
            "+------------------------------+-----------------------+\n"
          ]
        }
      ],
      "source": [
        "# Get data for the table using the functionality1 function\n",
        "output_data = functionality1(citation_graph, graph_name='citation_graph')\n",
        "\n",
        "# Organize data for the table\n",
        "table_data = [\n",
        "    [\"Name of Graph\", output_data[\"Graph Name\"]],\n",
        "    [\"Number of nodes in the Graph\", output_data[\"Number of Nodes\"]],\n",
        "    [\"Number of edges in the Graph\", output_data[\"Number of Edges\"]],\n",
        "    [\"Density of the Graph\", output_data[\"Graph Density\"]],\n",
        "    [\"Average degree of the Graph\", output_data[\"Average Degree\"]],\n",
        "    [\"The Graph is\", output_data[\"Graph Density Status\"]]\n",
        "]\n",
        "\n",
        "# Print the table using tabulate\n",
        "print(tabulate(table_data, headers=[\"Attribute\", \"Value\"], tablefmt=\"grid\"))\n"
      ]
    },
    {
      "cell_type": "markdown",
      "metadata": {
        "id": "1nkNdy9yMlkE"
      },
      "source": [
        "Collaboration Graph:"
      ]
    },
    {
      "cell_type": "code",
      "execution_count": null,
      "metadata": {
        "id": "H5ua1FcGMlkF",
        "outputId": "58e94287-b17c-4f35-82b4-24ee8c50a754"
      },
      "outputs": [
        {
          "name": "stdout",
          "output_type": "stream",
          "text": [
            "+------------------------------+----------------------+\n",
            "| Attribute                    | Value                |\n",
            "+==============================+======================+\n",
            "| Name of Graph                | collaboration_graph  |\n",
            "+------------------------------+----------------------+\n",
            "| Number of nodes in the Graph | 20202                |\n",
            "+------------------------------+----------------------+\n",
            "| Number of edges in the Graph | 136476               |\n",
            "+------------------------------+----------------------+\n",
            "| Density of the Graph         | 0.000668835082972997 |\n",
            "+------------------------------+----------------------+\n",
            "| Average degree of the Graph  | 13.51113751113751    |\n",
            "+------------------------------+----------------------+\n",
            "| The Graph is                 | sparse               |\n",
            "+------------------------------+----------------------+\n"
          ]
        }
      ],
      "source": [
        "# Get data for the table using the functionality1 function\n",
        "output_data = functionality1(collaboration_graph, graph_name='collaboration_graph')\n",
        "\n",
        "# Organize data for the table\n",
        "table_data = [\n",
        "    [\"Name of Graph\", output_data[\"Graph Name\"]],\n",
        "    [\"Number of nodes in the Graph\", output_data[\"Number of Nodes\"]],\n",
        "    [\"Number of edges in the Graph\", output_data[\"Number of Edges\"]],\n",
        "    [\"Density of the Graph\", output_data[\"Graph Density\"]],\n",
        "    [\"Average degree of the Graph\", output_data[\"Average Degree\"]],\n",
        "    [\"The Graph is\", output_data[\"Graph Density Status\"]]\n",
        "]\n",
        "\n",
        "# Print the table using tabulate\n",
        "print(tabulate(table_data, headers=[\"Attribute\", \"Value\"], tablefmt=\"grid\"))"
      ]
    },
    {
      "cell_type": "markdown",
      "metadata": {
        "id": "vOwEcjDxMlkF"
      },
      "source": [
        "**2. A table that lists the graph's hubs**"
      ]
    },
    {
      "cell_type": "markdown",
      "metadata": {
        "id": "pXStxZFXMlkF"
      },
      "source": [
        "Citation Graph:"
      ]
    },
    {
      "cell_type": "code",
      "execution_count": null,
      "metadata": {
        "id": "RoUvJSX1MlkF",
        "outputId": "cc56f6c6-c293-4fce-9ecb-0cc099ea3bb8"
      },
      "outputs": [
        {
          "name": "stdout",
          "output_type": "stream",
          "text": [
            "+---------+------------+\n",
            "|   Index |       Node |\n",
            "+=========+============+\n",
            "|       1 | 1480415088 |\n",
            "+---------+------------+\n",
            "|       2 | 1481420047 |\n",
            "+---------+------------+\n",
            "|       3 | 1499049447 |\n",
            "+---------+------------+\n",
            "|       4 | 1480376833 |\n",
            "+---------+------------+\n",
            "|       5 | 1502916507 |\n",
            "+---------+------------+\n",
            "|       6 | 1506285740 |\n",
            "+---------+------------+\n",
            "|       7 | 1515402129 |\n",
            "+---------+------------+\n",
            "|       8 | 1520914943 |\n",
            "+---------+------------+\n",
            "|       9 | 1535271175 |\n",
            "+---------+------------+\n",
            "|      10 | 1536680647 |\n",
            "+---------+------------+\n"
          ]
        }
      ],
      "source": [
        "# Execute functionality1 function to get graph and hub data\n",
        "output_data = functionality1(citation_graph, graph_name='citation_graph')\n",
        "\n",
        "# Extract relevant data from the output\n",
        "graph_name = output_data[\"Graph Name\"]\n",
        "hubs = output_data[\"Graph Hubs\"]\n",
        "\n",
        "# Consider only the first 10 hubs\n",
        "first_10_hubs = hubs[:10]\n",
        "\n",
        "# Convert node numbers into a list of lists for tabulate, directly converting nodes to strings\n",
        "hub_table = [[index, str(node)] for index, node in enumerate(first_10_hubs, start=1)]\n",
        "\n",
        "# Create a table using tabulate\n",
        "table = tabulate(hub_table, headers=[\"Index\", \"Node\"], tablefmt=\"grid\")\n",
        "\n",
        "# Print the table\n",
        "print(table)"
      ]
    },
    {
      "cell_type": "markdown",
      "metadata": {
        "id": "mwNopUFnMlkF"
      },
      "source": [
        "Collaboration Graph:"
      ]
    },
    {
      "cell_type": "code",
      "execution_count": null,
      "metadata": {
        "id": "w3RaqBKSMlkF",
        "outputId": "46fa31b1-c17a-41bf-89b8-9286445925da"
      },
      "outputs": [
        {
          "name": "stdout",
          "output_type": "stream",
          "text": [
            "+---------+------------+\n",
            "|   Index |       Node |\n",
            "+=========+============+\n",
            "|       1 |  295353625 |\n",
            "+---------+------------+\n",
            "|       2 |  161269817 |\n",
            "+---------+------------+\n",
            "|       3 | 2104401652 |\n",
            "+---------+------------+\n",
            "|       4 | 2075956027 |\n",
            "+---------+------------+\n",
            "|       5 |  215131072 |\n",
            "+---------+------------+\n",
            "|       6 | 1111049960 |\n",
            "+---------+------------+\n",
            "|       7 | 2004792601 |\n",
            "+---------+------------+\n",
            "|       8 | 2485834696 |\n",
            "+---------+------------+\n",
            "|       9 | 2462121670 |\n",
            "+---------+------------+\n",
            "|      10 | 2328522601 |\n",
            "+---------+------------+\n"
          ]
        }
      ],
      "source": [
        "# Execute functionality1 function to get graph and hub data\n",
        "output_data = functionality1(collaboration_graph, graph_name='colaboration_graph')\n",
        "\n",
        "# Extract relevant data from the output\n",
        "graph_name = output_data[\"Graph Name\"]\n",
        "hubs = output_data[\"Graph Hubs\"]\n",
        "\n",
        "# Consider only the first 10 hubs\n",
        "first_10_hubs = hubs[:10]\n",
        "\n",
        "# Convert node numbers into a list of lists for tabulate, directly converting nodes to strings\n",
        "hub_table = [[index, str(node)] for index, node in enumerate(first_10_hubs, start=1)]\n",
        "\n",
        "# Create a table using tabulate\n",
        "table = tabulate(hub_table, headers=[\"Index\", \"Node\"], tablefmt=\"grid\")\n",
        "\n",
        "# Print the table\n",
        "print(table)"
      ]
    },
    {
      "cell_type": "markdown",
      "metadata": {
        "id": "Gx5qqdDQMlkG"
      },
      "source": [
        "**3. A plot depicting the distribution of the citations received by papers (Citation graph)**"
      ]
    },
    {
      "cell_type": "markdown",
      "metadata": {
        "id": "KWzx9KnFMlkG"
      },
      "source": [
        "**Note** : For the points 3 and 4 we choosed to analyze the strongly connected component (previously defined). Focusing on the strongly connected component helps analyze citations among closely linked papers, offering a clearer picture of meaningful interactions and reducing noise from less relevant citations"
      ]
    },
    {
      "cell_type": "code",
      "execution_count": null,
      "metadata": {
        "id": "Jsl2KrVnMlkG",
        "outputId": "e3ba587d-897c-48e5-adcd-15f4aa23f05a"
      },
      "outputs": [
        {
          "data": {
            "image/png": "[encoded data removed]",
            "text/plain": [
              "<Figure size 720x432 with 1 Axes>"
            ]
          },
          "metadata": {
            "needs_background": "light"
          },
          "output_type": "display_data"
        }
      ],
      "source": [
        "# Calculate the number of citations received by each paper in the citation graph\n",
        "citation_counts = [d for n, d in citation_subgraph.in_degree()]\n",
        "\n",
        "# Create the plot\n",
        "plt.figure(figsize=(10, 6))\n",
        "plt.hist(citation_counts, bins=30, edgecolor='black')  # Crea l'istogramma usando Matplotlib\n",
        "plt.title('Distribution of Citations Received by Papers')\n",
        "plt.xlabel('Number of Citations')\n",
        "plt.ylabel('Number of Papers')\n",
        "plt.show()"
      ]
    },
    {
      "cell_type": "markdown",
      "metadata": {
        "id": "ETyy7Y49MlkG"
      },
      "source": [
        "**4. A plot depicting the distribution of the given citations by papers (Citation graph)**"
      ]
    },
    {
      "cell_type": "code",
      "execution_count": null,
      "metadata": {
        "id": "DBxWxtnaMlkG",
        "outputId": "cc34b5e8-c2a9-47de-b264-6cf9e581db63"
      },
      "outputs": [
        {
          "data": {
            "image/png": "[encoded data removed]",
            "text/plain": [
              "<Figure size 720x432 with 1 Axes>"
            ]
          },
          "metadata": {
            "needs_background": "light"
          },
          "output_type": "display_data"
        }
      ],
      "source": [
        "# Calculate the number of citations given by each paper in the citation graph\n",
        "citations_given = [d for n, d in citation_subgraph.out_degree()]\n",
        "\n",
        "# Create the histogram depicting the distribution of citations given\n",
        "plt.figure(figsize=(10, 6))\n",
        "plt.hist(citations_given, bins=30, edgecolor='black')\n",
        "plt.title('Distribution of Citations Given by Papers')\n",
        "plt.xlabel('Number of Citations Given')\n",
        "plt.ylabel('Number of Papers')\n",
        "plt.show()"
      ]
    },
    {
      "cell_type": "markdown",
      "metadata": {
        "id": "_jocmmH_MlkG"
      },
      "source": [
        "**5. A plot depicting the number of collaborations of the author (Collaboration graph)**"
      ]
    },
    {
      "cell_type": "code",
      "execution_count": null,
      "metadata": {
        "id": "cqjO0n8dMlkH",
        "outputId": "a0d2a942-60ab-4cfa-b525-baca03beece2"
      },
      "outputs": [
        {
          "data": {
            "image/png": "[encoded data removed]",
            "text/plain": [
              "<Figure size 720x432 with 1 Axes>"
            ]
          },
          "metadata": {
            "needs_background": "light"
          },
          "output_type": "display_data"
        }
      ],
      "source": [
        "# Calculate the number of collaborations for each author\n",
        "collaborations = collaboration_graph.degree()\n",
        "\n",
        "# Extract the degrees (number of collaborations) for each author\n",
        "degrees = [degree for author, degree in collaborations]\n",
        "\n",
        "# Plotting\n",
        "plt.figure(figsize=(10, 6))\n",
        "plt.hist(degrees, bins=30, edgecolor='black')\n",
        "plt.title('Number of Collaborations of Authors')\n",
        "plt.xlabel('Number of Collaborations')\n",
        "plt.ylabel('Number of Authors')\n",
        "plt.show()\n"
      ]
    },
    {
      "cell_type": "markdown",
      "metadata": {
        "id": "V2l4d1qUMlkH"
      },
      "source": [
        "#### Visualization 2 - Visualize the node's contribution"
      ]
    },
    {
      "cell_type": "markdown",
      "metadata": {
        "id": "01ddh-IVMlkH"
      },
      "source": [
        "**1. A table containing the node's centrality value based on the four centrality measurements**\n"
      ]
    },
    {
      "cell_type": "markdown",
      "metadata": {
        "id": "phvY-1QeMlkH"
      },
      "source": [
        "Citation Graph:"
      ]
    },
    {
      "cell_type": "code",
      "execution_count": null,
      "metadata": {
        "id": "LA7zatBnMlkH",
        "outputId": "0319cb7b-2e31-4add-e782-ab384cb6770d"
      },
      "outputs": [
        {
          "name": "stdout",
          "output_type": "stream",
          "text": [
            "      Node    Betweenness Centrality    PageRank Centrality    Closeness Centrality    Degree Centrality\n",
            "----------  ------------------------  ---------------------  ----------------------  -------------------\n",
            "2153950497                         0            3.67648e-05                       0           0.00070007\n"
          ]
        }
      ],
      "source": [
        "# Extract a random node from the graph\n",
        "random_node = random.choice(list(citation_graph.nodes()))\n",
        "\n",
        "# Call functionality2 to get centrality measurements for that specific node\n",
        "result = functionality2(citation_graph, random_node, graph_name='citation_graph')\n",
        "\n",
        "# Extract centrality values and convert to strings\n",
        "node = str(result['Node'])\n",
        "betweenness = str(result['Betweenness Centrality'])\n",
        "pagerank = str(result['PageRank Centrality'])\n",
        "closeness = str(result['Closeness Centrality'])\n",
        "degree_centrality = str(result['Degree Centrality'])\n",
        "\n",
        "# Create a table of centrality values\n",
        "centrality_table = [\n",
        "    ['Node', 'Betweenness Centrality', 'PageRank Centrality', 'Closeness Centrality', 'Degree Centrality'],\n",
        "    [node, betweenness, pagerank, closeness, degree_centrality]\n",
        "]\n",
        "\n",
        "# Display the table\n",
        "print(tabulate(centrality_table, headers='firstrow'))"
      ]
    },
    {
      "cell_type": "markdown",
      "metadata": {
        "id": "3B872RuvMlkH"
      },
      "source": [
        "Collaboration Graph:"
      ]
    },
    {
      "cell_type": "code",
      "execution_count": null,
      "metadata": {
        "id": "FCXCvFbVMlkH",
        "outputId": "c81b593c-8910-4df2-c02b-a57fed991e79"
      },
      "outputs": [
        {
          "name": "stdout",
          "output_type": "stream",
          "text": [
            "      Node    Betweenness Centrality    PageRank Centrality    Closeness Centrality    Degree Centrality\n",
            "----------  ------------------------  ---------------------  ----------------------  -------------------\n",
            "2153823796                         0            5.68812e-05             0.000419315          0.000346517\n"
          ]
        }
      ],
      "source": [
        "# Extract a random node from the graph\n",
        "random_node = random.choice(list(collaboration_graph.nodes()))\n",
        "\n",
        "# Call functionality2 to get centrality measurements for that specific node\n",
        "result = functionality2(collaboration_graph, random_node, graph_name='collaboration_graph')\n",
        "\n",
        "# Extract centrality values and convert to strings\n",
        "node = str(result['Node'])\n",
        "betweenness = str(result['Betweenness Centrality'])\n",
        "pagerank = str(result['PageRank Centrality'])\n",
        "closeness = str(result['Closeness Centrality'])\n",
        "degree_centrality = str(result['Degree Centrality'])\n",
        "\n",
        "# Create a table of centrality values\n",
        "centrality_table = [\n",
        "    ['Node', 'Betweenness Centrality', 'PageRank Centrality', 'Closeness Centrality', 'Degree Centrality'],\n",
        "    [node, betweenness, pagerank, closeness, degree_centrality]\n",
        "]\n",
        "\n",
        "# Display the table\n",
        "print(tabulate(centrality_table, headers='firstrow'))"
      ]
    },
    {
      "cell_type": "markdown",
      "metadata": {
        "id": "KLt0Nf8xMlkI"
      },
      "source": [
        "#### Visualization 3 - Visualize the shortest-ordered route"
      ]
    },
    {
      "cell_type": "code",
      "execution_count": null,
      "metadata": {
        "id": "cd4BWe9GMlkI",
        "outputId": "1e5280f2-ef69-4c2c-dead-56b9de2ccb66"
      },
      "outputs": [
        {
          "name": "stdout",
          "output_type": "stream",
          "text": [
            "Authors Nodes:  [1973035492, 1976452423, 332422508, 173839695, 2146468246]\n",
            "Initial Node:  1973035492\n",
            "End Node:  1976452423\n",
            "Authors to cross: [173839695, 332422508]\n",
            "No titles found between nodes 332422508 and 1976452423\n",
            "No titles found between nodes 173839695 and 1976452423\n"
          ]
        },
        {
          "data": {
            "image/png": "[encoded data removed]",
            "text/plain": [
              "<Figure size 720x576 with 1 Axes>"
            ]
          },
          "metadata": {},
          "output_type": "display_data"
        }
      ],
      "source": [
        "authors_list = []\n",
        "initial_node = 0\n",
        "end_node = 0\n",
        "N = 5\n",
        "\n",
        "result = shortest_ordered_walk(collaboration_graph, initial_node, end_node, N)\n",
        "graph_used=result[0]\n",
        "path = result[1]\n",
        "papers = result[2]\n",
        "\n",
        "plt.figure(figsize=(10, 8))\n",
        "pos = nx.spring_layout(graph_used)\n",
        "nx.draw(graph_used, pos, with_labels=True, node_size=50, font_size=8)\n",
        "plt.title('SubGraph of collaboration_graph Used')\n",
        "plt.show()"
      ]
    },
    {
      "cell_type": "markdown",
      "metadata": {
        "id": "vIEfCWA_MlkI"
      },
      "source": [
        "**1. Print the papers needed to be crossed in the shortest walk in order**"
      ]
    },
    {
      "cell_type": "code",
      "execution_count": null,
      "metadata": {
        "id": "sMmjrJwHMlkI"
      },
      "outputs": [],
      "source": [
        "def get_papers_for_shortest_walk(G, path):\n",
        "    # Initialize an empty list to hold the papers (edges) in the walk\n",
        "    papers_in_walk = []\n",
        "\n",
        "    # Iterate through the path and find the papers connecting each consecutive pair of authors\n",
        "    for i in range(len(path) - 1):\n",
        "        start_author = path[i]\n",
        "        end_author = path[i + 1]\n",
        "\n",
        "        # Retrieve the papers (or collaborations) associated with the edge\n",
        "        # This assumes you have an attribute for each edge that lists the associated paper(s)\n",
        "        # Adjust the attribute name as per your graph's data\n",
        "        papers = G[start_author][end_author].get('titles', 'Unknown Paper')\n",
        "\n",
        "        # If multiple papers are found, you might want to handle them here\n",
        "        # For simplicity, we're assuming it's a single identifier\n",
        "        papers_in_walk.append((start_author, end_author, papers))\n",
        "\n",
        "    return papers_in_walk"
      ]
    },
    {
      "cell_type": "code",
      "execution_count": null,
      "metadata": {
        "id": "yAuXSHiBMlkI",
        "outputId": "1016ca4c-a7e2-4516-f311-d5805d92b0b8"
      },
      "outputs": [
        {
          "name": "stdout",
          "output_type": "stream",
          "text": [
            "Papers needed to be crossed in the shortest walk: \n",
            "\n",
            "1. Between 1973035492 and 173839695: Papers: InterPro in 2017—beyond protein family and domain annotations +\n",
            "\n",
            "2. Between 173839695 and 332422508: Papers: The Universal Protein Resource (UniProt) in 2010 +\n",
            "\n",
            "3. Between 332422508 and 1973035492: Papers: InterPro: the integrative protein signature database +\n",
            "\n",
            "4. Between 1973035492 and 1976452423: Papers: A promoter-level mammalian expression atlas +\n",
            "\n"
          ]
        }
      ],
      "source": [
        "papers_in_walk = get_papers_for_shortest_walk(graph_used, path)\n",
        "# Print the papers in order\n",
        "print(\"Papers needed to be crossed in the shortest walk: \\n\")\n",
        "for i, (start, end, paper) in enumerate(papers_in_walk, 1):\n",
        "    print(f\"{i}. Between {start} and {end}: Papers: {paper} +\\n\")"
      ]
    },
    {
      "cell_type": "markdown",
      "metadata": {
        "id": "kd9KDiHiMlkI"
      },
      "source": [
        "**2. Plot the graph and identify the nodes and edges that appear in the shortest walk (please put an identifier on each edge in the shortest walk to determine the order that we should have the walk)**"
      ]
    },
    {
      "cell_type": "code",
      "execution_count": null,
      "metadata": {
        "id": "5Z_O8dB1MlkJ",
        "outputId": "75d1d1df-0656-4857-8be6-3683722229e2"
      },
      "outputs": [
        {
          "name": "stdout",
          "output_type": "stream",
          "text": [
            "[1973035492, 173839695, 332422508, 1973035492, 1976452423]\n"
          ]
        }
      ],
      "source": [
        "print(path)"
      ]
    },
    {
      "cell_type": "code",
      "execution_count": null,
      "metadata": {
        "id": "aXqKxwHHMlkJ",
        "outputId": "141056b9-b30d-42a5-a2e0-eb636eee4bdf"
      },
      "outputs": [
        {
          "data": {
            "image/png": "[encoded data removed]",
            "text/plain": [
              "<Figure size 720x432 with 1 Axes>"
            ]
          },
          "metadata": {},
          "output_type": "display_data"
        }
      ],
      "source": [
        "# Create a dictionary of edge labels based on order in the shortest path\n",
        "edge_labels = {(path[i], path[i + 1]): str(i + 1) for i in range(len(path) - 1)}\n",
        "\n",
        "# Draw the subgraph with labels on the edges\n",
        "plt.figure(figsize=(10, 6))\n",
        "pos = nx.spring_layout(graph_used)\n",
        "nx.draw(graph_used, pos=pos, with_labels=True, node_color='skyblue', node_size=500, font_weight='bold', font_size=10)\n",
        "nx.draw_networkx_edge_labels(shortest_path_subgraph, pos=pos, edge_labels=edge_labels)\n",
        "plt.title('Subgraph with Edge Labels on the shortest path')\n",
        "plt.show()"
      ]
    },
    {
      "cell_type": "markdown",
      "metadata": {
        "id": "eB4nyyGZMlkJ"
      },
      "source": [
        "#### Visualization 4 - Visualize the disconnected graph"
      ]
    },
    {
      "cell_type": "markdown",
      "metadata": {
        "id": "wUc2nkjzMlkJ"
      },
      "source": [
        "**1. Print the number of the links that should be disconnected**"
      ]
    },
    {
      "cell_type": "markdown",
      "metadata": {
        "id": "4pg_qJkmMlkJ"
      },
      "source": [
        "**2.Plot the original graph**"
      ]
    },
    {
      "cell_type": "markdown",
      "metadata": {
        "id": "VKw2sM88MlkJ"
      },
      "source": [
        "**3. Plot the graph after removing the links and identify the two nodes**"
      ]
    },
    {
      "cell_type": "markdown",
      "metadata": {
        "id": "KxfbuXEJMlkK"
      },
      "source": [
        "#### Visualization 5 - Visualize the communities"
      ]
    },
    {
      "cell_type": "markdown",
      "metadata": {
        "id": "5uPHOfuvMlkK"
      },
      "source": [
        "**1. Print the number of links that should be removed to have the communities**"
      ]
    },
    {
      "cell_type": "markdown",
      "metadata": {
        "id": "_EGp4t2gMlkK"
      },
      "source": [
        "**2. A table depicting the communities and the papers that belong to each community**"
      ]
    },
    {
      "cell_type": "markdown",
      "metadata": {
        "id": "tUwqkV7sMlkK"
      },
      "source": [
        "**3.Plot the original graph**"
      ]
    },
    {
      "cell_type": "markdown",
      "metadata": {
        "id": "OaISdh_QMlkK"
      },
      "source": [
        "**4.Plot the graph showing the communities in the network**"
      ]
    },
    {
      "cell_type": "markdown",
      "metadata": {
        "id": "WzgM1TXUMlkK"
      },
      "source": [
        "**5.Plot the final graph and identify the community/communities of Paper_1 and Paper_2**"
      ]
    },
    {
      "cell_type": "code",
      "execution_count": null,
      "metadata": {
        "id": "8mKjIcsTMlkK"
      },
      "outputs": [],
      "source": []
    },
    {
      "cell_type": "markdown",
      "source": [
        "## **[4] Command Line Question (CLQ)**"
      ],
      "metadata": {
        "id": "rLJqxsA6M1Oq"
      }
    },
    {
      "cell_type": "markdown",
      "source": [
        "## **[5] Algorithmic Questions (AQ)**\n",
        "### **Part A**"
      ],
      "metadata": {
        "id": "huOCjPw-Ibh9"
      }
    },
    {
      "cell_type": "markdown",
      "source": [
        "#### *5.1) The Algorithm*\n",
        "\n",
        "What we are basically asked to do is to select M athletes such that the sum of their scores in the M corresponding skills is maximized. \\\\\n",
        "We need to keep track of the top M athletes based on their potential scores, updating this list whenever we encounter an athlete whose potential score is higher than the lowest score currently in the list."
      ],
      "metadata": {
        "id": "QX5DDY-uIl7Z"
      }
    },
    {
      "cell_type": "markdown",
      "source": [
        "- With 1st. input"
      ],
      "metadata": {
        "id": "qQP3kX-SI13m"
      }
    },
    {
      "cell_type": "code",
      "source": [
        "#S = 1\n",
        "# Read the number of athletes and skills\n",
        "n, m, s = map(int, input().split()) #constant\n",
        "\n",
        "# Read the optimal set of skills\n",
        "optimal_skills = input().split() #constant\n",
        "\n",
        "# Initialize a dictionary to store each athlete's skills and scores\n",
        "athletes = {} #constant\n",
        "   # Step 1: read the input\n",
        "athletes_dict = {} #constant\n",
        "for i in range(n):\n",
        "  id = int(input())\n",
        "  skills = {}\n",
        "  for _ in range(s):\n",
        "    skill, score = input().split()\n",
        "    skills[skill] = int(score)\n",
        "  athletes_dict[id] = skills"
      ],
      "metadata": {
        "colab": {
          "base_uri": "https://localhost:8080/"
        },
        "id": "VqoJMV888GRR",
        "outputId": "830b7276-5eb8-42e6-9043-fb481f111927"
      },
      "execution_count": null,
      "outputs": [
        {
          "name": "stdout",
          "output_type": "stream",
          "text": [
            "14 10 1\n",
            "SWM VOL ATH VOL VOL BSK HCK BSK SWM BSK\n",
            "1\n",
            "BSK 98\n",
            "2\n",
            "ATH 14\n",
            "3\n",
            "HCK 82\n",
            "4\n",
            "HCK 9\n",
            "5\n",
            "FTB 90\n",
            "6\n",
            "ATH 52\n",
            "7\n",
            "HCK 95\n",
            "8\n",
            "TEN 85\n",
            "9\n",
            "RGB 46\n",
            "10\n",
            "SWM 16\n",
            "11\n",
            "VOL 32\n",
            "12\n",
            "SOC 41\n",
            "13\n",
            "SWM 59\n",
            "14\n",
            "SWM 34\n"
          ]
        }
      ]
    },
    {
      "cell_type": "code",
      "source": [
        "#1: Sort the athletes by their scores in the optimal skills\n",
        "athletes_sorted = {}\n",
        "for skill in optimal_skills:\n",
        " athletes_sorted[skill] = sorted([(athletes_dict[val][skill], val) for val in athletes_dict.keys() if skill in athletes_dict[val]], key=lambda x: x[0], reverse=True)\n",
        "\n",
        "#2: Select the top athlete for each skill\n",
        "selected_athletes = {}\n",
        "for skill in optimal_skills:\n",
        " for _, athlete_id in athletes_sorted[skill]:\n",
        "  if athlete_id not in selected_athletes:\n",
        "    selected_athletes[athlete_id] = skill\n",
        "    break\n",
        "\n",
        "#3: Compute the team's overall score\n",
        "team_score = sum([athletes_dict[athlete_id][skill] for athlete_id, skill in selected_athletes.items()])\n",
        "\n",
        "print(team_score)"
      ],
      "metadata": {
        "colab": {
          "base_uri": "https://localhost:8080/"
        },
        "id": "VmTVgc-q3VYW",
        "outputId": "fbba5255-e197-4184-88f3-6cc449ab39a4"
      },
      "execution_count": null,
      "outputs": [
        {
          "output_type": "stream",
          "name": "stdout",
          "text": [
            "370\n"
          ]
        }
      ]
    },
    {
      "cell_type": "markdown",
      "source": [
        "- With 2nd input"
      ],
      "metadata": {
        "id": "padavxhbI6dC"
      }
    },
    {
      "cell_type": "code",
      "source": [
        "#S = 2\n",
        "# Read the number of athletes and skills\n",
        "n, m, s = map(int, input().split()) #constant\n",
        "\n",
        "# Read the optimal set of skills\n",
        "optimal_skills = input().split() #constant\n",
        "\n",
        "# Initialize a dictionary to store each athlete's skills and scores\n",
        "athletes = {} #constant\n",
        "   # Step 1: Parse the input\n",
        "athletes_dict = {} #constant\n",
        "for i in range(n):\n",
        "  id = int(input())\n",
        "  skills = {}\n",
        "  for _ in range(s):\n",
        "    skill, score = input().split()\n",
        "    skills[skill] = int(score)\n",
        "  athletes_dict[id] = skills"
      ],
      "metadata": {
        "colab": {
          "base_uri": "https://localhost:8080/"
        },
        "id": "-tCVnROS5Tc0",
        "outputId": "79387926-9dfa-4d52-c8ee-ceafbce54b34"
      },
      "execution_count": null,
      "outputs": [
        {
          "name": "stdout",
          "output_type": "stream",
          "text": [
            "14 10 2\n",
            "SWM VOL ATH VOL VOL BSK HCK BSK SWM BSK\n",
            "1\n",
            "BSK 98 \n",
            "HCK 12\n",
            "2\n",
            "ATH 14 \n",
            "VOL 1\n",
            "3\n",
            "HCK 82 \n",
            "ATH 30\n",
            "4\n",
            "HCK 9 \n",
            "SWM 27\n",
            "5\n",
            "FTB 90\n",
            "HCK 50\n",
            "6\n",
            "ATH 52 \n",
            "RGB 80\n",
            "7\n",
            "HCK 95 \n",
            "SWM 11\n",
            "8\n",
            "TEN 85 \n",
            "RGB 7\n",
            "9\n",
            "RGB 46 \n",
            "SWM 30\n",
            "10\n",
            "SWM 16 \n",
            "BSK 12\n",
            "11\n",
            "VOL 32 \n",
            "HCK 40\n",
            "12\n",
            "SOC 41 \n",
            "FTB 12\n",
            "13\n",
            "SWM 59 \n",
            "TEN 82\n",
            "14\n",
            "SWM 34 \n",
            "VOL 20\n"
          ]
        }
      ]
    },
    {
      "cell_type": "code",
      "source": [
        "# Sort the athletes by their scores in the optimal skills\n",
        "athletes_sorted = {}\n",
        "for skill in optimal_skills:\n",
        " athletes_sorted[skill] = sorted([(athletes_dict[val][skill], val) for val in athletes_dict.keys() if skill in athletes_dict[val]], key=lambda x: x[0], reverse=True)\n",
        "\n",
        "# Select the top athlete for each skill\n",
        "selected_athletes = {}\n",
        "for skill in optimal_skills:\n",
        " for _, athlete_id in athletes_sorted[skill]:\n",
        "  if athlete_id not in selected_athletes:\n",
        "    selected_athletes[athlete_id] = skill\n",
        "    break\n",
        "\n",
        "# Compute the team's overall score\n",
        "team_score = sum([athletes_dict[athlete_id][skill] for athlete_id, skill in selected_athletes.items()])\n",
        "\n",
        "print(team_score)"
      ],
      "metadata": {
        "colab": {
          "base_uri": "https://localhost:8080/"
        },
        "id": "ThoSs-ms5sUN",
        "outputId": "5fd03a0c-142a-4ff9-a85c-1b12bbfe4907"
      },
      "execution_count": null,
      "outputs": [
        {
          "output_type": "stream",
          "name": "stdout",
          "text": [
            "399\n"
          ]
        }
      ]
    },
    {
      "cell_type": "markdown",
      "source": [
        "#### *5.2) Time complexity*"
      ],
      "metadata": {
        "id": "UwrVXbr6ZbMS"
      }
    },
    {
      "cell_type": "markdown",
      "source": [
        "The algorithm code can be divided into four parts:\n",
        "\n",
        "1. **Reading the inputs and initializing a dictionary to store each athlete's skills and scores** \\\\\n",
        "The outermost loop in the code reads the number of athletes. The inner loop reads the number of skills. So, the outer loop runs 'n' times and the inner loop runs 's' times for each iteration of the outer loop. \\\\\n",
        "This results in a time complexity of O(n * s), where 'n' is the number of athletes and 's' is the number of skills.\n",
        "\n",
        "2. **Sort the athletes by their scores in the optimal skills:** \\\\\n",
        "This part of the code involves sorting the athletes based on their scores in the optimal skills.\n",
        "The time complexity of this part is O(n * m * s) because there are 'n' athletes, 'm' skills, and for each athlete, we iterate through their skills for a total of 'n * m * s' iterations.\n",
        "\n",
        "3. **Select the top athlete for each skill:** \\\\\n",
        "This part of the code involves selecting the top athlete for each skill in the optimal set.\n",
        "The time complexity of this part is O(n * m) because for each skill in the optimal set, we iterate through the athletes for a total of 'n * m' iterations.\n",
        "\n",
        "4. **Compute the team's overall score:** \\\\\n",
        "This part of the code involves calculating the overall score of the team.\n",
        "The time complexity of this part is O(n * m) because we iterate through each athlete in the selected athlete list for a total of 'n * m' iterations.\n",
        "\n",
        "However, since these parts of the code are nested within each other, their time complexities are multiplied together to get the final overall time complexity of O(n * m * s).\n",
        "\n",
        "Therefore, the Overall time complexity of the code is O(n * m * s).\n"
      ],
      "metadata": {
        "id": "jDfxMqC_QEW8"
      }
    },
    {
      "cell_type": "markdown",
      "source": [
        "#### *5.3) Time complexity - ask the AI*"
      ],
      "metadata": {
        "id": "IQhFf53Hr6mG"
      }
    },
    {
      "cell_type": "markdown",
      "source": [
        "BY asking Phind we get the following answer: \\\\\n",
        "The time complexity of your code can be analyzed as follows:\n",
        "\n",
        "1. **Reading the input:** This part of the code runs in O(n) time complexity, where n is the number of athletes. Each athlete's skills are read once, and the time complexity of reading a single athlete's skills is O(s), where s is the number of skills. Therefore, the total time complexity is O(n*s).\n",
        "2. **Sorting athletes by their scores in the optimal skills:** This part of the code runs in O(mnlog(n)) time complexity. For each skill in optimal_skills, we iterate over all athletes and sort them by their scores in that skill. The sorting operation has a time complexity of O(nlog(n)). Since there are m skills, the total time complexity becomes O(mn*log(n)).\n",
        "3. **Selecting the top athlete for each skill:** \\\\\n",
        " This part of the code runs in O(m*n) time complexity. We iterate over each skill in optimal_skills and for each skill, we iterate over all athletes. In the worst case, we have to iterate over all athletes for each skill.\n",
        "4. **Computing the team's overall score:** This part of the code runs in O(n) time complexity. We iterate over each athlete in selected_athletes once. \\\\\n",
        "Adding up these complexities, the overall time complexity of the code is O(mns).\n",
        "\n",
        "So we can say that both our answer and the AI tool answer are the same."
      ],
      "metadata": {
        "id": "awMzOc3CXCev"
      }
    },
    {
      "cell_type": "markdown",
      "source": [
        "#### *5.4) Polynomial time alternative*"
      ],
      "metadata": {
        "id": "g8A2tLUTYj-7"
      }
    },
    {
      "cell_type": "markdown",
      "source": [
        "Our algorithm has O(m*n*s) time complexity, which is already polynomial"
      ],
      "metadata": {
        "id": "qfLGuezpYONl"
      }
    },
    {
      "cell_type": "markdown",
      "source": [
        "#### *5.5) What if S = 1?*"
      ],
      "metadata": {
        "id": "tsPwCQu8arc0"
      }
    },
    {
      "cell_type": "markdown",
      "source": [
        "If the number of skills (S) is 1, the time complexity of the algorithm simplifies significantly, because all the O(n) become O(1). \\\\\n",
        "\n",
        "1. **Reading the inputs and initializing a dictionary to store each athlete's skills and scores** \\\\\n",
        "(n*s) becomes O(s)\n",
        "\n",
        "2. **Sort the athletes by their scores in the optimal skills:** \\\\\n",
        "O(n*m*s) becomes O(n*m)\n",
        "\n",
        "3. **Selecting the top athlete for each skill:** \\\\\n",
        "O(m*n) stays the same\n",
        "\n",
        "4. **Compute the team's overall score:** \\\\\n",
        "O(n) stays the same too"
      ],
      "metadata": {
        "id": "sW1tAwBRanea"
      }
    },
    {
      "cell_type": "markdown",
      "metadata": {
        "id": "686ef229-3984-46d9-b685-ade77a536467"
      },
      "source": [
        "### **Part B**"
      ]
    },
    {
      "cell_type": "markdown",
      "metadata": {
        "id": "8700f949-8d05-4f10-85f7-22b9d1f5285a"
      },
      "source": [
        "#### *5.1) Prove or disprove that the problem is NP-complete*"
      ]
    },
    {
      "cell_type": "markdown",
      "metadata": {
        "id": "426a6dc6-04e3-487d-b9fd-2c5b73903a64"
      },
      "source": [
        "- A problem P is ***NP-Complete*** if:\n",
        "1. P &isin; NP\n",
        "2. Every problem in NP can be reduced in polytime to P.\n",
        "\n",
        "*Remark that, P &isin; NP if I can check in a polytime whether a given solution is correct.*"
      ]
    },
    {
      "cell_type": "markdown",
      "metadata": {
        "id": "46badebb-d130-4ea9-979d-8ea2655d42c4"
      },
      "source": [
        "- The solution for this problem can be checked in a polytime. This allows us to say that it is in NP.\n",
        "- We can proof that P is NP complete by considering that the **SAT** (Boolean Satisfiability Problem) is NP complete. In this case, solving SAT allows us to obtain a possible solution for our problem.\n",
        "    - **Proof:**\n",
        "        - Let be x( Si, Ij) = 1 if the individual j (n total individuals) has the skill i (k total skills). In this scenario, the SAT problem can be the following:\n",
        "        \n",
        "            *{ **[x(S1,I1) OR x(S1,I2) OR ... OR x(S1,In)]** AND **[x(S2,I1) OR x(S2,I2) OR ... OR x(S2,In)]** AND ... AND **[x(Sk,I1) OR x(Sk,I2) OR ... OR x(Sk,In)]** }.*\n",
        "\n",
        "            We can rapresent this situation with a matrix in which each row rapresent a skill and each column rapresent an individual. The goal is to obtain at least a 1 for each row. If we consider the number of ones for each row as a score, the total score related to all the rows should be at least k (the total number of skills). If the total score is at least k, we could say that all the skills are covered and a possible solution exists. If a possible solution S for our problem P exists, then it is possible to create an algorithm to solve SAT, which uses S, to solve SAT. P is at least as difficult as SAT.\n",
        "            \n",
        "            **- In conclusion, SAT can be reduced to P and SAT is NP-complete implies that P is NP-complete.**"
      ]
    },
    {
      "cell_type": "markdown",
      "metadata": {
        "id": "9eb9eac8-1e09-4ef0-9e94-2c8295e42360"
      },
      "source": [
        "#### *5.2) Write a heuristic in order to approximate the best solution for this problem*"
      ]
    },
    {
      "cell_type": "markdown",
      "metadata": {
        "id": "f1fdae4f-e0d4-449f-b0ab-990806cc9a8b"
      },
      "source": [
        "In order to get an heuristic we are going into some steps:\n",
        "\n",
        "1. We obtain a subgraph in which nodes (and edges related to those nodes) with no requested skills are deleted.\n",
        "2. We initialize an empty set of individuals V'.\n",
        "3. We initialize the list of requested skills T.\n",
        "4. From the subgraph, we randomly select a node *j* and add it to V'. This node *j* would be our root. The skill related to *j* is removed from T.  \n",
        "5. Starting from a root we are going to initialize an algorithm.\n",
        "\n",
        "    - 5.1. Among all the nodes connected to the root, we take the one with the minimum cost having at least one of the skills present in T. Update T removing the skill. We add the selected node v to V'.\n",
        "    \n",
        "    - 5.2. From the previous selected node, we repeate the 5.1 until all the skills are covered."
      ]
    },
    {
      "cell_type": "markdown",
      "metadata": {
        "id": "f87231d7-0c7f-4bb0-ac18-df6f67b5cd39"
      },
      "source": [
        "#### *5.3) What is the time complexity of your solution ?*"
      ]
    },
    {
      "cell_type": "markdown",
      "metadata": {
        "id": "45dbcbff-4340-4ab4-b3fc-aa0a9e8879bc"
      },
      "source": [
        "1. **Delete nodes and edges without requested skills:**\n",
        "    - Complexity: O(V * S), where V is the number of nodes and S is the avarage number of skills per node.\n",
        "\n",
        "2. **Initialize empty set of individuals V':**\n",
        "    - Complexity: O(1).\n",
        "\n",
        "3. **Initialize list of requested skills T:**\n",
        "    - Complexity: O(T), where T is the number of requested skills.\n",
        "\n",
        "4. **Randomly select a node *j* from the subgraph:**\n",
        "    - Complexity: O(1).\n",
        "\n",
        "5. **Algorithm starting from the root:**\n",
        "    - 5.1. Among connected nodes, select minimum cost node with at least one skill in T.\n",
        "        - Complexity: O(T^2 * S) in the worst case, where T is the number of requested skills.\n",
        "    - 5.2. Repeat 5.1 until all skills are covered.\n",
        "        - Complexity: O(V' * T^2 * S) in the worst case, we repeat 5.1 for V' times, as V' is the number of nodes in the subgraph.\n",
        "        \n",
        "**POLYTIME.**"
      ]
    }
  ],
  "metadata": {
    "colab": {
      "provenance": []
    },
    "kernelspec": {
      "display_name": "Python 3",
      "language": "python",
      "name": "python3"
    },
    "language_info": {
      "codemirror_mode": {
        "name": "ipython",
        "version": 3
      },
      "file_extension": ".py",
      "mimetype": "text/x-python",
      "name": "python",
      "nbconvert_exporter": "python",
      "pygments_lexer": "ipython3",
      "version": "3.8.3"
    }
  },
  "nbformat": 4,
  "nbformat_minor": 0
}